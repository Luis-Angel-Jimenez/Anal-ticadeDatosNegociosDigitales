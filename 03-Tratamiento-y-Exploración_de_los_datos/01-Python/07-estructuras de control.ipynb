{
 "cells": [
  {
   "cell_type": "markdown",
   "id": "78c3b5f8",
   "metadata": {},
   "source": [
    "## Estructuras de Control\n",
    "\n",
    "### Objetivo:\n",
    "\n",
    "    - Conocer las estructuras de control, como funcionan y para que sirven\n",
    "\n",
    "---"
   ]
  },
  {
   "cell_type": "markdown",
   "id": "ceab2cc7",
   "metadata": {},
   "source": [
    "## Desarrollo"
   ]
  },
  {
   "cell_type": "markdown",
   "id": "55247d7e",
   "metadata": {},
   "source": [
    "Queremos darle a nuestro programa la capacidad de tomar decisiones. Esto puede hacerse utilizando una `sentencia if` utiliza una comparacion para obtener un boolean. Si el booleano es `True`, el bloque de la sentencia se ejecuta. Si el booleano es `False` nos saltamos a lo que sigue despues del bloque"
   ]
  },
  {
   "cell_type": "code",
   "execution_count": 1,
   "id": "e73c7a75",
   "metadata": {},
   "outputs": [],
   "source": [
    "var_1 = 4\n",
    "var_2 = 5"
   ]
  },
  {
   "cell_type": "code",
   "execution_count": 2,
   "id": "ed4d333c",
   "metadata": {},
   "outputs": [
    {
     "name": "stdout",
     "output_type": "stream",
     "text": [
      "El bloque se ha ejecutado\n"
     ]
    }
   ],
   "source": [
    "if var_1 < var_2:\n",
    "    print(\"El bloque se ha ejecutado\")"
   ]
  },
  {
   "cell_type": "code",
   "execution_count": 3,
   "id": "a4eccf28",
   "metadata": {},
   "outputs": [],
   "source": [
    "var_1 = int(input('Intriduce el Valor'))\n",
    "var_2 = int(input('Intriduce el Valor'))\n",
    "\n",
    "if var_1 < var_2:\n",
    "    print(f\"El numero {var_1} es menor que el numero {var_2}\")"
   ]
  },
  {
   "cell_type": "code",
   "execution_count": 4,
   "id": "487e33c3",
   "metadata": {},
   "outputs": [],
   "source": [
    "# Funcion que solicita un valor\n",
    "def solicitar ():\n",
    "    return int(input('Introduce el Valor'))"
   ]
  },
  {
   "cell_type": "code",
   "execution_count": 5,
   "id": "82af9405",
   "metadata": {},
   "outputs": [],
   "source": [
    "# Funcion que hace la comparacion\n",
    "\n",
    "def comparar (valor_uno, valor_dos):\n",
    "    if valor_uno < valor_dos:\n",
    "        print(f\"El numero {var_1} es menor que el numero {var_2}\")"
   ]
  },
  {
   "cell_type": "code",
   "execution_count": 6,
   "id": "d83fc6b6",
   "metadata": {},
   "outputs": [
    {
     "name": "stdout",
     "output_type": "stream",
     "text": [
      "El numero 3 es menor que el numero 4\n"
     ]
    }
   ],
   "source": [
    "# Ejecucion de las funciones\n",
    "var_1 = solicitar()\n",
    "var_2 = solicitar()\n",
    "\n",
    "comparar(var_1, var_2)"
   ]
  },
  {
   "cell_type": "markdown",
   "id": "629d3a35",
   "metadata": {},
   "source": [
    "1. **Desarrollar un programa que determine si un numero es positivo**\n",
    "2. **Desarrollar un programa que determina si puedes votar, la edad minima es 18**\n",
    "3. **Verificar si un numero es par**\n",
    "4. **Realizar a simulacion de un login, en el cual se debe verificar se la contraseña es correcta**\n",
    "5. **Realizar un programa determine si un alumno esta aprobado, la calificacion minima es 7**\n",
    "\n",
    "Todos los datos deben ser solicitados"
   ]
  },
  {
   "cell_type": "code",
   "execution_count": 7,
   "id": "4fb45ed3",
   "metadata": {},
   "outputs": [
    {
     "name": "stdout",
     "output_type": "stream",
     "text": [
      "Tu numero 5 es positivo\n"
     ]
    }
   ],
   "source": [
    "# 1\n",
    "\n",
    "var_1 = solicitar()\n",
    "\n",
    "\n",
    "if var_1 > 0:\n",
    "    print (f'Tu numero {var_1} es positivo')"
   ]
  },
  {
   "cell_type": "code",
   "execution_count": 13,
   "id": "39131a21",
   "metadata": {},
   "outputs": [
    {
     "name": "stdout",
     "output_type": "stream",
     "text": [
      "Si puedes votar\n"
     ]
    }
   ],
   "source": [
    "#2\n",
    "\n",
    "def solicitaredad():\n",
    "    return int(input('Introduce el Valor'))\n",
    "\n",
    "var_1 = solicitaredad()\n",
    "\n",
    "if var_1 >= 18:\n",
    "    print (f\"Si puedes votar\")\n"
   ]
  },
  {
   "cell_type": "code",
   "execution_count": 14,
   "id": "388dc208",
   "metadata": {},
   "outputs": [
    {
     "name": "stdout",
     "output_type": "stream",
     "text": [
      "Tu numero es par 2\n"
     ]
    }
   ],
   "source": [
    "#3\n",
    "\n",
    "var_1 = solicitar()\n",
    "\n",
    "residuo = var_1 % 2\n",
    "\n",
    "if residuo == 0:\n",
    "    print(f\"Tu numero es par {var_1}\")"
   ]
  },
  {
   "cell_type": "code",
   "execution_count": 15,
   "id": "5b04be54",
   "metadata": {},
   "outputs": [
    {
     "name": "stdout",
     "output_type": "stream",
     "text": [
      "Tu contraseña es correcta, puedes acceder\n"
     ]
    }
   ],
   "source": [
    "#4\n",
    "\n",
    "def solicitar ():\n",
    "    return str(input('Introduce la contraseña')) \n",
    "contra = solicitar()\n",
    "\n",
    "if contra == 'papahugo':\n",
    "    print(\"Tu contraseña es correcta, puedes acceder\")"
   ]
  },
  {
   "cell_type": "code",
   "execution_count": 16,
   "id": "c35551b3",
   "metadata": {},
   "outputs": [
    {
     "name": "stdout",
     "output_type": "stream",
     "text": [
      "Tu contraseña es correcta, puedes acceder\n"
     ]
    }
   ],
   "source": [
    "def solicitar ():\n",
    "    return str(input('Introduce la contraseña')) \n",
    "contra = solicitar()\n",
    "\n",
    "if contra == 'papahugo':\n",
    "    print(\"Tu contraseña es correcta, puedes acceder\")\n",
    "else:\n",
    "    print('Contraseña incorrecta')"
   ]
  },
  {
   "cell_type": "code",
   "execution_count": 17,
   "id": "ccc6ad78",
   "metadata": {},
   "outputs": [
    {
     "name": "stdout",
     "output_type": "stream",
     "text": [
      "Aprobaste!!! Felicidades! Tu calificacion es aprobatoria 8\n"
     ]
    }
   ],
   "source": [
    "#5\n",
    "def solicitar ():\n",
    "    return int(input('Introduce el valor')) \n",
    "\n",
    "var_1 = solicitar()\n",
    "\n",
    "if var_1 >= 7:\n",
    "\n",
    "    print (f\"Aprobaste!!! Felicidades! Tu calificacion es aprobatoria {var_1}\")"
   ]
  },
  {
   "cell_type": "markdown",
   "id": "a0cc2aa7",
   "metadata": {},
   "source": [
    "## Operadores Logicos\n",
    "---"
   ]
  },
  {
   "cell_type": "markdown",
   "id": "dd14823f",
   "metadata": {},
   "source": [
    "### Operador or\n",
    "\n",
    "| A   | B   | A or B |\n",
    "|-----|-----|--------|\n",
    "| F   | F   | F      |\n",
    "| T   | F   | T      |\n",
    "| F   | T   | T      |\n",
    "| T   | T   | T      |\n",
    "\n",
    "### Operador and\n",
    "\n",
    "| A   | B   | A and B |\n",
    "|-----|-----|---------|\n",
    "| F   | F   | F       |\n",
    "| T   | F   | F       |\n",
    "| F   | T   | F       |\n",
    "| T   | T   | T       |\n",
    "\n",
    "### Operador not\n",
    "\n",
    "| A   | not A |\n",
    "|-----|--------|\n",
    "| F   | T      |\n",
    "| T   | F      |"
   ]
  },
  {
   "cell_type": "code",
   "execution_count": 18,
   "id": "2311b5e7",
   "metadata": {},
   "outputs": [
    {
     "data": {
      "text/plain": [
       "True"
      ]
     },
     "execution_count": 18,
     "metadata": {},
     "output_type": "execute_result"
    }
   ],
   "source": [
    "resultado = 4>5 or 5 == 5\n",
    "resultado"
   ]
  },
  {
   "cell_type": "code",
   "execution_count": 19,
   "id": "6a423772",
   "metadata": {},
   "outputs": [
    {
     "data": {
      "text/plain": [
       "False"
      ]
     },
     "execution_count": 19,
     "metadata": {},
     "output_type": "execute_result"
    }
   ],
   "source": [
    "resultado = 4 > 5 and 5 == 5\n",
    "resultado"
   ]
  },
  {
   "cell_type": "code",
   "execution_count": 21,
   "id": "651f786e",
   "metadata": {},
   "outputs": [
    {
     "data": {
      "text/plain": [
       "True"
      ]
     },
     "execution_count": 21,
     "metadata": {},
     "output_type": "execute_result"
    }
   ],
   "source": [
    "resultado = not(4 > 5 and 5 == 5)\n",
    "resultado"
   ]
  },
  {
   "cell_type": "code",
   "execution_count": 25,
   "id": "8937deb6",
   "metadata": {},
   "outputs": [
    {
     "data": {
      "text/plain": [
       "True"
      ]
     },
     "execution_count": 25,
     "metadata": {},
     "output_type": "execute_result"
    }
   ],
   "source": [
    "resultado = not 4 > 5 or 5 == 5\n",
    "resultado"
   ]
  },
  {
   "cell_type": "code",
   "execution_count": 24,
   "id": "8889652a",
   "metadata": {},
   "outputs": [
    {
     "data": {
      "text/plain": [
       "False"
      ]
     },
     "execution_count": 24,
     "metadata": {},
     "output_type": "execute_result"
    }
   ],
   "source": [
    "resultado = not(4 > 5 or 5 == 5)\n",
    "resultado"
   ]
  },
  {
   "cell_type": "code",
   "execution_count": 26,
   "id": "1e980ced",
   "metadata": {},
   "outputs": [
    {
     "data": {
      "text/plain": [
       "False"
      ]
     },
     "execution_count": 26,
     "metadata": {},
     "output_type": "execute_result"
    }
   ],
   "source": [
    "resultado = not 4 < 5 or 5 != 5\n",
    "resultado"
   ]
  },
  {
   "cell_type": "code",
   "execution_count": 27,
   "id": "7656c905",
   "metadata": {},
   "outputs": [
    {
     "data": {
      "text/plain": [
       "False"
      ]
     },
     "execution_count": 27,
     "metadata": {},
     "output_type": "execute_result"
    }
   ],
   "source": [
    "x = 5\n",
    "y = 10\n",
    "\n",
    "resultado = x >= 5 and y <= x\n",
    "\n",
    "resultado"
   ]
  },
  {
   "cell_type": "markdown",
   "id": "a13284dc",
   "metadata": {},
   "source": [
    "1. Verificar si un numero esta en el rango  de 10 y 20\n",
    "2. Verificar si un usuario tiene acceso al charlys si tiene minimo 18 años p tiene permiso especial\n",
    "3. Verificar si un numero no es igual a cero\n",
    "4. Verificar si un valor esta fuera del rango de 0 y 30"
   ]
  },
  {
   "cell_type": "code",
   "execution_count": 39,
   "id": "09d16166",
   "metadata": {},
   "outputs": [],
   "source": [
    "def solicitar():\n",
    "    return int(input('Ingresa un valor'))\n",
    "def solicitarper():\n",
    "    return str('Ingresa un valor')"
   ]
  },
  {
   "cell_type": "code",
   "execution_count": 38,
   "id": "74132e61",
   "metadata": {},
   "outputs": [
    {
     "name": "stdout",
     "output_type": "stream",
     "text": [
      "Si esta dentro del rango\n"
     ]
    }
   ],
   "source": [
    "#1\n",
    "var_1 = solicitar()\n",
    "\n",
    "if (var_1 >= 10 and var_1 <=20):\n",
    "    print('Si esta dentro del rango')\n",
    "else:\n",
    "    print('No esta dentro del Rango')\n"
   ]
  },
  {
   "cell_type": "code",
   "execution_count": null,
   "id": "13970b95",
   "metadata": {},
   "outputs": [],
   "source": [
    "var_1 = solicitar()\n",
    "var_2 = solicitarper()\n",
    "\n",
    "if (var_1 >= 18 or var_2 == True):\n",
    "    print('Si puede pasar al Charlys')\n",
    "else:\n",
    "    print('No puede pasar')"
   ]
  },
  {
   "cell_type": "markdown",
   "id": "6181cbb1",
   "metadata": {},
   "source": [
    "Hay veces que queremos tener una accion `default`, que queremos que suceda en caso de que la comparacion sea `false`. Para esto podemos usar una sentencia `else`. Piensalo como preguntarse a uno mismo: \"Si meto mi mano a la bolsa y resulta que encuentro un billete $50, me compro unos nachos; y si no hay nada, vere una pelicula con mi novia llorando de tristeza por que no es el otro\""
   ]
  },
  {
   "cell_type": "code",
   "execution_count": 40,
   "id": "aab63715",
   "metadata": {},
   "outputs": [
    {
     "name": "stdout",
     "output_type": "stream",
     "text": [
      "La condicion no se ha cumplido, y por lo tanto yo me imprimo\n"
     ]
    }
   ],
   "source": [
    "var_1 = 4\n",
    "var_2 = 5\n",
    "\n",
    "if var_1 > var_2:\n",
    "    print('La condicion se cumplio')\n",
    "else:\n",
    "    print('La condicion no se ha cumplido, y por lo tanto yo me imprimo')"
   ]
  },
  {
   "cell_type": "code",
   "execution_count": null,
   "id": "c0552319",
   "metadata": {},
   "outputs": [
    {
     "name": "stdout",
     "output_type": "stream",
     "text": [
      "El mumero20 es mayor al numero 5\n"
     ]
    }
   ],
   "source": [
    "# Encontrar el numero mas grande de dos numeros\n",
    "\n",
    "number_1 = int(input('Introduce el numero 1'))\n",
    "number_2 = int(input('Introduce el numero 2'))\n",
    "\n",
    "# Elegir el numero mas grande \n",
    "\n",
    "if number_1 > number_2:\n",
    "    print(f'El numero {number_1} es mayor al numero {number_2}')\n",
    "else: \n",
    "    print(f'El numero {number_2} es mayor al numero {number_1}')"
   ]
  },
  {
   "cell_type": "code",
   "execution_count": 44,
   "id": "de4a86cd",
   "metadata": {},
   "outputs": [
    {
     "name": "stdout",
     "output_type": "stream",
     "text": [
      "El numero mayor es: 20\n"
     ]
    }
   ],
   "source": [
    "number_1 = int(input('Introduce el numero 1'))\n",
    "number_2 = int(input('Introduce el numero 2'))\n",
    "\n",
    "if number_1 > number_2:\n",
    "    numero_mayor = number_1\n",
    "else: \n",
    "    numero_mayor = number_2\n",
    "print(f'El numero mayor es: {numero_mayor}')"
   ]
  },
  {
   "cell_type": "markdown",
   "id": "14dcac53",
   "metadata": {},
   "source": [
    "Si queremos que haya mas de dos opciones podemos agregar opciones utilizando la sentencia `elif` "
   ]
  },
  {
   "cell_type": "code",
   "execution_count": 47,
   "id": "768c541e",
   "metadata": {},
   "outputs": [
    {
     "name": "stdout",
     "output_type": "stream",
     "text": [
      "El 14 es mayor 12\n"
     ]
    }
   ],
   "source": [
    "var_1 = 12\n",
    "var_2 = 14\n",
    "\n",
    "if var_1 > var_2:\n",
    "    print(f'El {var_1} es mayor {var_2}')\n",
    "elif var_2 > var_1:\n",
    "    print(f'El {var_2} es mayor {var_1}')\n",
    "else:\n",
    "    print(f'El {var_1} es igual al {var_2}')"
   ]
  },
  {
   "cell_type": "markdown",
   "id": "fda6c1f9",
   "metadata": {},
   "source": [
    "#### 1. Comparaciones numéricas\n",
    "\n",
    "Vamos a imaginar que estamos analizando un conjunto de datos que contiene las ventas anuales en pesos de unos vendedores que trabajan en nuestra empresa. Obtenemos el total de ventas anuales en pesos y lo tenemos asignado a la variable ventas_anuales_totales. Escribe una estructura de control que nos diga de cuánto va a ser el bono de nuestro empleado.\n",
    "\n",
    "Si las ventas son mayores a `$`1,000,000 el bono será de 20% del sueldo; si son entre `$`700,000 y `$`1,000,000 el bono será de 15% del sueldo; entre `$`400,000 y `$`700,000 el bono será de 10% del sueldo; entre `$`100,00 y 400,000 el bono será de 5% del sueldo; y debajo de `$`100,000 el bono será del 1% del sueldo.\n",
    "\n",
    "Escribe tu estructura de control y, por ahora (más adelante tendremos más herramientas para hacer esto más interesante) imprime una string que diga de cuánto va a ser el bono.\n",
    "\n",
    "> Reto opcional: Agrega una variable sueldo que sea el sueldo de tu empleado y agrégale el porcentaje de bono a esa variable dependiendo de la condición que se cumpla. Después hasta el final imprime una string interpolada que diga algo como \"Felicidades, tu sueldo es x; tu bono es de x; y el total de sueldo con el bono incluido es de x\". ¡Para que esto funcione también debes de agregar una variable donde guardes la cantidad del bono!"
   ]
  },
  {
   "cell_type": "code",
   "execution_count": null,
   "id": "96576513",
   "metadata": {},
   "outputs": [],
   "source": [
    "def solicitarVentas():\n",
    "    return int(input('Ingresa el total de ventas'))\n",
    "def solicitarSueldo():\n",
    "    return int(input('Inserta tu sueldo'))\n",
    "ventas = solicitarVentas()\n",
    "sueldo = solicitarSueldo()\n",
    "bono = 0\n",
    "\n",
    "if ventas > 1000000:\n",
    "    print"
   ]
  },
  {
   "cell_type": "code",
   "execution_count": null,
   "id": "cf0e8cf8",
   "metadata": {},
   "outputs": [],
   "source": [
    "ventas_anuales_totales = float(input('Ingresa las ventas'))\n",
    "\n",
    "if ventas_anuales_totales > 1000000:\n",
    "    bono = ventas_anuales_totales * 0.20\n",
    "elif ventas_anuales_totales > 700000 and ventas_anuales_totales <= 1000000:\n",
    "    bono = ventas_anuales_totales * 0.15\n",
    "elif ventas_anuales_totales >= 400000 and ventas_anuales_totales <= 700000:\n",
    "    bono = ventas_anuales_totales * 0.10\n",
    "elif ventas_anuales_totales >= 100000 and ventas_anuales_totales <= 400000\n",
    "    bono = ventas_anuales_totales * 0.05\n",
    "else:\n",
    "    bono = ventas_anuales_totales * 0.01\n",
    "print (f'El bono es {bono}')"
   ]
  }
 ],
 "metadata": {
  "kernelspec": {
   "display_name": "Python 3",
   "language": "python",
   "name": "python3"
  },
  "language_info": {
   "codemirror_mode": {
    "name": "ipython",
    "version": 3
   },
   "file_extension": ".py",
   "mimetype": "text/x-python",
   "name": "python",
   "nbconvert_exporter": "python",
   "pygments_lexer": "ipython3",
   "version": "3.13.1"
  }
 },
 "nbformat": 4,
 "nbformat_minor": 5
}
