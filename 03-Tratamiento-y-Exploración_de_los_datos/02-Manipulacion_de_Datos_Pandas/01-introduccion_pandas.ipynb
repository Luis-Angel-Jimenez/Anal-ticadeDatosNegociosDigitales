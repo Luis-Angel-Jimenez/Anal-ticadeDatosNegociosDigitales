{
 "cells": [
  {
   "cell_type": "markdown",
   "id": "707b2d5b",
   "metadata": {},
   "source": [
    "# ¿Que es Pandas?"
   ]
  },
  {
   "cell_type": "markdown",
   "id": "cfa8f1a5",
   "metadata": {},
   "source": [
    "Pandas es una libreria "
   ]
  },
  {
   "cell_type": "code",
   "execution_count": 1,
   "id": "c536ee87",
   "metadata": {},
   "outputs": [],
   "source": [
    "import pandas as pd"
   ]
  },
  {
   "cell_type": "code",
   "execution_count": 3,
   "id": "013be03c",
   "metadata": {},
   "outputs": [
    {
     "name": "stdout",
     "output_type": "stream",
     "text": [
      "  Nombre  Edad\n",
      "0    Ana    23\n",
      "1   Luis    30\n",
      "2  Pedro    27\n"
     ]
    }
   ],
   "source": [
    "#comprobar si funciona pandas o no\n",
    "datos = {\n",
    "    \"Nombre\": ['Ana', 'Luis', 'Pedro'],\n",
    "    'Edad': [23, 30, 27]\n",
    "}\n",
    "df = pd.DataFrame(datos)\n",
    "print(df)"
   ]
  },
  {
   "cell_type": "code",
   "execution_count": null,
   "id": "84a47728",
   "metadata": {},
   "outputs": [],
   "source": []
  },
  {
   "cell_type": "markdown",
   "id": "0253dbd9",
   "metadata": {},
   "source": [
    "# Series"
   ]
  },
  {
   "cell_type": "markdown",
   "id": "e7182289",
   "metadata": {},
   "source": [
    "Es un arreglo unidimensional que puede contener datos de cualquier tipo como `enteros, flotantes, cadenas de texto, etc` y tiene un indice asociado lo que facilita la manipulacion y el acceso a los datos."
   ]
  },
  {
   "cell_type": "code",
   "execution_count": 5,
   "id": "2120d1cd",
   "metadata": {},
   "outputs": [],
   "source": [
    "# crear una lista\n",
    "edad = [30, 40, 50]"
   ]
  },
  {
   "cell_type": "code",
   "execution_count": 12,
   "id": "c9ef0f90",
   "metadata": {},
   "outputs": [],
   "source": [
    "# convertirla a serie \n",
    "serie = pd.Series(edad)"
   ]
  },
  {
   "cell_type": "code",
   "execution_count": 7,
   "id": "da181eef",
   "metadata": {},
   "outputs": [
    {
     "data": {
      "text/plain": [
       "0    30\n",
       "1    40\n",
       "2    50\n",
       "dtype: int64"
      ]
     },
     "execution_count": 7,
     "metadata": {},
     "output_type": "execute_result"
    }
   ],
   "source": [
    "serie"
   ]
  },
  {
   "cell_type": "code",
   "execution_count": 13,
   "id": "5febf69d",
   "metadata": {},
   "outputs": [
    {
     "data": {
      "text/plain": [
       "np.int64(40)"
      ]
     },
     "execution_count": 13,
     "metadata": {},
     "output_type": "execute_result"
    }
   ],
   "source": [
    "serie [1]"
   ]
  },
  {
   "cell_type": "code",
   "execution_count": 14,
   "id": "75211d73",
   "metadata": {},
   "outputs": [],
   "source": [
    "# cambiar los indices\n",
    "serie = pd.Series(edad, index = ['Alex', 'John', 'Maria'])"
   ]
  },
  {
   "cell_type": "code",
   "execution_count": 15,
   "id": "d7126c80",
   "metadata": {},
   "outputs": [
    {
     "data": {
      "text/plain": [
       "Alex     30\n",
       "John     40\n",
       "Maria    50\n",
       "dtype: int64"
      ]
     },
     "execution_count": 15,
     "metadata": {},
     "output_type": "execute_result"
    }
   ],
   "source": [
    "serie"
   ]
  },
  {
   "cell_type": "code",
   "execution_count": 11,
   "id": "2366f0cd",
   "metadata": {},
   "outputs": [
    {
     "data": {
      "text/plain": [
       "np.int64(40)"
      ]
     },
     "execution_count": 11,
     "metadata": {},
     "output_type": "execute_result"
    }
   ],
   "source": [
    "serie ['John']"
   ]
  },
  {
   "cell_type": "markdown",
   "id": "900d7a5a",
   "metadata": {},
   "source": [
    "# Ejemplo 2"
   ]
  },
  {
   "cell_type": "code",
   "execution_count": 16,
   "id": "abbbba88",
   "metadata": {},
   "outputs": [
    {
     "name": "stdout",
     "output_type": "stream",
     "text": [
      "0      1\n",
      "1      4\n",
      "2      9\n",
      "3      2\n",
      "4      6\n",
      "5     10\n",
      "6    200\n",
      "dtype: int64\n"
     ]
    }
   ],
   "source": [
    "naranjas = pd.Series([ 1, 4, 9, 2, 6, 10, 200])\n",
    "print(naranjas)"
   ]
  },
  {
   "cell_type": "code",
   "execution_count": 17,
   "id": "3176dd0a",
   "metadata": {},
   "outputs": [
    {
     "data": {
      "text/plain": [
       "pandas.core.series.Series"
      ]
     },
     "execution_count": 17,
     "metadata": {},
     "output_type": "execute_result"
    }
   ],
   "source": [
    "type(naranjas)"
   ]
  },
  {
   "cell_type": "code",
   "execution_count": 18,
   "id": "68c5b7d1",
   "metadata": {},
   "outputs": [
    {
     "name": "stdout",
     "output_type": "stream",
     "text": [
      "Marco       1\n",
      "Ana         4\n",
      "Juan        9\n",
      "Pedro       2\n",
      "Estela      6\n",
      "Ivan       10\n",
      "Luis      200\n",
      "dtype: int64\n"
     ]
    }
   ],
   "source": [
    "naranjas = pd.Series([ 1, 4, 9, 2, 6, 10, 200], index = ['Marco', 'Ana', 'Juan', 'Pedro', 'Estela', 'Ivan', 'Luis'])\n",
    "print(naranjas)"
   ]
  },
  {
   "cell_type": "code",
   "execution_count": null,
   "id": "976de64d",
   "metadata": {},
   "outputs": [],
   "source": []
  }
 ],
 "metadata": {
  "kernelspec": {
   "display_name": "Python 3",
   "language": "python",
   "name": "python3"
  },
  "language_info": {
   "codemirror_mode": {
    "name": "ipython",
    "version": 3
   },
   "file_extension": ".py",
   "mimetype": "text/x-python",
   "name": "python",
   "nbconvert_exporter": "python",
   "pygments_lexer": "ipython3",
   "version": "3.13.1"
  }
 },
 "nbformat": 4,
 "nbformat_minor": 5
}
