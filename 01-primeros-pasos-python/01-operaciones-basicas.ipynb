{
 "cells": [
  {
   "cell_type": "markdown",
   "id": "19764d26",
   "metadata": {},
   "source": [
    "# Operaciones Basicas en Python"
   ]
  },
  {
   "cell_type": "markdown",
   "id": "96d345a4",
   "metadata": {},
   "source": [
    "## Declaración de Variables y asignación de Datos \n",
    "\n",
    "**Se describe los tipos de datos existentes en python y la forma de imprimirlos**"
   ]
  },
  {
   "cell_type": "code",
   "execution_count": null,
   "id": "aff9379a",
   "metadata": {},
   "outputs": [],
   "source": [
    "# Declaración de variable\n",
    "\n",
    "a = 1 # Variable de tipo entero\n",
    "b = 2.3 # Variable de tipo flotante\n",
    "c = True # Variable de tipo boolean\n",
    "d = False # Variable de tipo boolean\n",
    "e = \"Hola Mundo!\" # Variable de tipo cadena de texto\n",
    "f = 'Hola Negocios Digitales' # Variable de tipo cadena de texto"
   ]
  }
 ],
 "metadata": {
  "kernelspec": {
   "display_name": "Python 3",
   "language": "python",
   "name": "python3"
  },
  "language_info": {
   "codemirror_mode": {
    "name": "ipython",
    "version": 3
   },
   "file_extension": ".py",
   "mimetype": "text/x-python",
   "name": "python",
   "nbconvert_exporter": "python",
   "pygments_lexer": "ipython3",
   "version": "3.13.1"
  }
 },
 "nbformat": 4,
 "nbformat_minor": 5
}
